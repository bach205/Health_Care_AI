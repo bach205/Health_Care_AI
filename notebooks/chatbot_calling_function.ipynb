{
 "cells": [
  {
   "cell_type": "markdown",
   "metadata": {},
   "source": [
    "doi output het roi moi tra ra response"
   ]
  },
  {
   "cell_type": "code",
   "execution_count": null,
   "metadata": {
    "vscode": {
     "languageId": "plaintext"
    }
   },
   "outputs": [],
   "source": [
    "def call_chatbot(question):\n",
    "  prompt = tokenizer.apply_chat_template(\n",
    "    [{\"role\": \"user\", \"content\": question}],\n",
    "    tokenize=False\n",
    "  )\n",
    "\n",
    "  inputs = tokenizer(prompt, return_tensors=\"pt\").to(model.device)\n",
    "  outputs = model.generate(**inputs, max_new_tokens=1024, temperature=0.7)\n",
    "  print(tokenizer.decode(outputs[0], skip_special_tokens=True))"
   ]
  },
  {
   "cell_type": "markdown",
   "metadata": {},
   "source": [
    "stream output"
   ]
  },
  {
   "cell_type": "code",
   "execution_count": null,
   "metadata": {
    "vscode": {
     "languageId": "plaintext"
    }
   },
   "outputs": [],
   "source": [
    "import torch\n",
    "\n",
    "def stream_chatbot(question):\n",
    "    prompt = tokenizer.apply_chat_template(\n",
    "        [{\"role\": \"user\", \"content\": question}],\n",
    "        tokenize=False\n",
    "    )\n",
    "    \n",
    "    inputs = tokenizer(prompt, return_tensors=\"pt\")\n",
    "    input_ids = inputs[\"input_ids\"]\n",
    "\n",
    "    generated = input_ids\n",
    "    past_key_values = None\n",
    "\n",
    "    model.eval()\n",
    "    with torch.no_grad():\n",
    "        outputs = model(\n",
    "                input_ids=generated[:, :-1],\n",
    "                past_key_values=past_key_values,\n",
    "                use_cache=True,\n",
    "            )\n",
    "        past_key_values = outputs.past_key_values\n",
    "        for _ in range(1024):  # max_new_tokens\n",
    "            outputs = model(\n",
    "                input_ids=generated[:, -1:],\n",
    "                past_key_values=past_key_values,\n",
    "                use_cache=True,\n",
    "            )\n",
    "\n",
    "            next_token_logits = outputs.logits[:, -1, :]\n",
    "            next_token = torch.argmax(next_token_logits, dim=-1, keepdim=True)\n",
    "\n",
    "            # In token mới ra ngay\n",
    "            new_text = tokenizer.decode(next_token[0])\n",
    "            print(new_text, end=\"\", flush=True)\n",
    "\n",
    "            # Kiểm tra nếu gặp <eos>\n",
    "            if next_token.item() == tokenizer.eos_token_id:\n",
    "                break\n",
    "\n",
    "            # Cập nhật\n",
    "            generated = torch.cat((generated, next_token), dim=1)\n",
    "            past_key_values = outputs.past_key_values"
   ]
  }
 ],
 "metadata": {
  "language_info": {
   "name": "python"
  }
 },
 "nbformat": 4,
 "nbformat_minor": 2
}
